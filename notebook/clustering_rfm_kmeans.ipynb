{
  "nbformat": 4,
  "nbformat_minor": 0,
  "metadata": {
    "colab": {
      "provenance": []
    },
    "kernelspec": {
      "name": "python3",
      "display_name": "Python 3"
    },
    "language_info": {
      "name": "python"
    }
  },
  "cells": [
    {
      "cell_type": "markdown",
      "source": [
        "# Customer Segmentation with RFM and K-Means Clustering\n",
        "\n",
        "This project applies RFM (Recency, Frequency, Monetary) analysis and K-Means clustering to segment customers in an e-commerce context.  \n",
        "The goal is to group customers based on their purchasing behavior to support marketing and business decisions.\n",
        "\n",
        "\n",
        "**Dataset**: Olist E-Commerce Public Dataset (Brazil)  \n",
        "**Author**: Paulo Castro\n",
        "**Date**: July 2025  \n",
        "**Tools**: Python (Pandas for data manipulation, Scikit-learn for clustering, Matplotlib/Seaborn for visualization)\n",
        "\n",
        "---"
      ],
      "metadata": {
        "id": "OfY5K7-phtz2"
      }
    },
    {
      "cell_type": "markdown",
      "source": [
        "## 1. Loading and Preparing the Data\n",
        "\n",
        "In this section, we load the necessary tables from the Olist Brazilian E-Commerce dataset.  \n",
        "We aim to construct a unified view of customer transactions by merging the relevant tables that contain order, customer, items, and payments details.\n",
        "\n",
        "**Files used:**\n",
        "- `olist_orders_dataset.csv`\n",
        "- `olist_customers_dataset.csv`\n",
        "- `olist_order_items_dataset.csv`\n",
        "- `olist_order_payments_dataset.csv`"
      ],
      "metadata": {
        "id": "7A0M9F-ZknMC"
      }
    },
    {
      "cell_type": "code",
      "execution_count": null,
      "metadata": {
        "id": "8cke5HwLCp9a"
      },
      "outputs": [],
      "source": [
        "import pandas as pd\n",
        "import numpy as np\n",
        "\n",
        "import matplotlib.pyplot as plt\n",
        "import seaborn as sns\n",
        "\n",
        "from sklearn.preprocessing import StandardScaler\n",
        "from sklearn.cluster import KMeans\n",
        "from sklearn.metrics import silhouette_score\n",
        "from sklearn.utils import resample\n",
        "\n",
        "orders = pd.read_csv('/content/olist_orders_dataset.csv')\n",
        "customers = pd.read_csv('/content/olist_customers_dataset.csv')\n",
        "order_items = pd.read_csv('/content/olist_order_items_dataset.csv')\n",
        "payments = pd.read_csv('/content/olist_order_payments_dataset.csv')"
      ]
    },
    {
      "cell_type": "code",
      "source": [
        "print(\"--- Initial Dataframes Head ---\")\n",
        "print(\"\\nOrders Head:\\n\", orders.head())\n",
        "print(\"\\nCustomers Head:\\n\", customers.head())\n",
        "print(\"\\nOrder Items Head:\\n\", order_items.head())\n",
        "print(\"\\nPayments Head:\\n\", payments.head())"
      ],
      "metadata": {
        "collapsed": true,
        "id": "wJmSuNlmyuSS"
      },
      "execution_count": null,
      "outputs": []
    },
    {
      "cell_type": "code",
      "source": [
        "# Merge 1: Orders + Customers (on customer_id)\n",
        "# Combines order details with unique customer IDs\n",
        "df_1 = pd.merge(orders, customers, how='left', on='customer_id')\n",
        "\n",
        "# Merge 2: Add Order Items (on order_id)\n",
        "# Adds product and price details for each order\n",
        "df_2 = pd.merge(df_1, order_items, how='left', on='order_id')\n",
        "\n",
        "# Merge 3: Add Payments (on order_id)\n",
        "# Includes payment information associated with each order\n",
        "df_final = pd.merge(df_2, payments, how='left', on='order_id')\n"
      ],
      "metadata": {
        "id": "qSlnS0sz7CBK",
        "collapsed": true
      },
      "execution_count": null,
      "outputs": []
    },
    {
      "cell_type": "markdown",
      "source": [
        "## 2. Data Cleaning and Type Adjustments\n",
        "\n",
        "Before performing the RFM analysis, we need to ensure that the dataset is clean and that all relevant columns are in the correct format, especially date fields.\n",
        "\n",
        "We will check for missing values, confirm that each column has the appropriate data type and ensure the dataset does not contain duplicated records, outliers, or invalid entries that could distort the analysis."
      ],
      "metadata": {
        "id": "XoF8Ub9ak4l0"
      }
    },
    {
      "cell_type": "markdown",
      "source": [
        "We now inspect the data types to confirm whether datetime and numerical columns are properly formatted."
      ],
      "metadata": {
        "id": "PX2rSvYWnhu5"
      }
    },
    {
      "cell_type": "code",
      "source": [
        "df_final.dtypes"
      ],
      "metadata": {
        "collapsed": true,
        "id": "yTRtHXcmk26q"
      },
      "execution_count": null,
      "outputs": []
    },
    {
      "cell_type": "markdown",
      "source": [
        "We convert `order_purchase_timestamp` to a datetime format and `payment_value` to float.\n",
        "This ensures proper time-based operations and accurate numerical aggregations during the RFM analysis."
      ],
      "metadata": {
        "id": "XRfjr4nxnj8z"
      }
    },
    {
      "cell_type": "code",
      "source": [
        "# Ensure correct data types for analysis\n",
        "df_final['order_purchase_timestamp'] = pd.to_datetime(df_final['order_purchase_timestamp'])\n",
        "df_final['payment_value'] = df_final['payment_value'].astype(float)\n",
        "print(df_final[['order_purchase_timestamp', 'payment_value']].dtypes)"
      ],
      "metadata": {
        "id": "r7aNr3MpR3Sm"
      },
      "execution_count": null,
      "outputs": []
    },
    {
      "cell_type": "markdown",
      "source": [
        "We check for and remove any duplicated rows to avoid skewed results in the customer segmentation process."
      ],
      "metadata": {
        "id": "dFzALs-InlYx"
      }
    },
    {
      "cell_type": "code",
      "source": [
        "# Remove duplicated rows\n",
        "print(\"Rows before removing duplicates:\", df_final.shape[0])\n",
        "print(\"Number of duplicate rows found:\", df_final.duplicated().sum())\n",
        "df_final.drop_duplicates(inplace=True)\n",
        "print(\"Rows after removing duplicates:\", df_final.shape[0])"
      ],
      "metadata": {
        "id": "Jb9uCPc7PbG1"
      },
      "execution_count": null,
      "outputs": []
    },
    {
      "cell_type": "markdown",
      "source": [
        "We remove rows that contain null values in critical columns for RFM analysis:  \n",
        "`customer_unique_id`, `order_purchase_timestamp`, `order_id`, and `payment_value`.\n",
        "\n",
        "These fields are required for identifying customers, tracking orders orver time, and measuring transaction values."
      ],
      "metadata": {
        "id": "lNONsjcAnn6f"
      }
    },
    {
      "cell_type": "code",
      "source": [
        "# Check and Drop rows with missing values in key RFM-related columns\n",
        "columns_rfm = ['customer_unique_id', 'order_purchase_timestamp', 'order_id', 'payment_value']\n",
        "missing = df_final[columns_rfm].isnull().sum()\n",
        "print(\"Missing values before removal:\", missing)\n",
        "\n",
        "df_final.dropna(subset=columns_rfm, inplace=True)\n",
        "print(\"Remaining rows:\", df_final.shape[0])"
      ],
      "metadata": {
        "collapsed": true,
        "id": "EC6iwXLUPnjW"
      },
      "execution_count": null,
      "outputs": []
    },
    {
      "cell_type": "markdown",
      "source": [
        "We remove the top 1% of `payment_values` entries to reduce the impact of extreme outliers on the clustering results."
      ],
      "metadata": {
        "id": "nUBkE9kGnzc7"
      }
    },
    {
      "cell_type": "code",
      "source": [
        "# Remove extreme outliers above the 99th percentile in payment_values\n",
        "\n",
        "high_limit = df_final['payment_value'].quantile(0.99)\n",
        "print(f\"Outlier threshold (99th percentile): {high_limit: .2f}\")\n",
        "df_final = df_final[df_final['payment_value'] <= high_limit]\n",
        "print(\"Remaining rows after outlier removal:\", df_final.shape[0])"
      ],
      "metadata": {
        "id": "auKqdWXfSTU7"
      },
      "execution_count": null,
      "outputs": []
    },
    {
      "cell_type": "markdown",
      "source": [
        "We remove transactions with payment values equal to or below zero, as they do not represent valid purchases.\n",
        "After this, we review the statistical distribution of the cleaned `payment_value` column to ensure consistency."
      ],
      "metadata": {
        "id": "Veb-I_lroS91"
      }
    },
    {
      "cell_type": "code",
      "source": [
        "# Remove non-positive payment values\n",
        "df_final = df_final[df_final['payment_value'] > 0]\n",
        "\n",
        "# Review the cleaned payment_value distribution\n",
        "df_final['payment_value'].describe()"
      ],
      "metadata": {
        "collapsed": true,
        "id": "1gwazyntUN4d"
      },
      "execution_count": null,
      "outputs": []
    },
    {
      "cell_type": "markdown",
      "source": [
        "## 3. RFM Calculation\n",
        "\n",
        "The RFM model evaluates customer behavior using three key metrics:\n",
        "\n",
        "- **Recency**: How many days ago the customer made their last purchase **(in days)**.\n",
        "- **Frequency**: How many unique purchases the customer has made.\n",
        "- **Monetary**: How much the customer has spent in total.\n",
        "\n",
        "We'll calculate these metrics based on the cleaned dataset.\n",
        "\n",
        "**Note**: We use the `customer_unique_id` column instead of `customer_id`.  \n",
        "This is because the `customer_id` is unique per order (a customer might have a different ID for each purchase),  \n",
        "while the `customer_unique_id` is stable and consistent across all purchases from the same person."
      ],
      "metadata": {
        "id": "la5NJ-Exoo4U"
      }
    },
    {
      "cell_type": "markdown",
      "source": [
        "We calculate **Recency** as the number of days between each customer's last purchase and the most recent purchase date in the dataset."
      ],
      "metadata": {
        "id": "MIXKmSa6oycx"
      }
    },
    {
      "cell_type": "code",
      "source": [
        "# Define the reference date (last purchase date in the dataset)\n",
        "reference_date = df_final['order_purchase_timestamp'].max()\n",
        "\n",
        "# Calculate Recency: days since the last purchase per customer\n",
        "last_purchase = df_final.groupby('customer_unique_id')['order_purchase_timestamp'].max().reset_index()\n",
        "last_purchase.columns = ['customer_unique_id', 'LastPurchaseDate']\n",
        "last_purchase['Recency'] = (reference_date - last_purchase['LastPurchaseDate']).dt.days\n",
        "\n",
        "\n",
        "print(\"Reference date:\", reference_date)\n",
        "print(last_purchase)"
      ],
      "metadata": {
        "collapsed": true,
        "id": "H9yxEXYx95C7"
      },
      "execution_count": null,
      "outputs": []
    },
    {
      "cell_type": "markdown",
      "source": [
        "We calculate **Frequency** as the number of unique purchase orders (`order_id`) per customer."
      ],
      "metadata": {
        "id": "C68HH3uRo8wx"
      }
    },
    {
      "cell_type": "code",
      "source": [
        "# Calculate Frequency: number of unique purchases per customer\n",
        "frequency = df_final.groupby('customer_unique_id')['order_id'].nunique().reset_index()\n",
        "frequency.columns = ['customer_unique_id', 'Frequency']\n",
        "\n",
        "# Check distribution of Frequency values\n",
        "frequency['Frequency'].value_counts().sort_index()"
      ],
      "metadata": {
        "id": "40vu9ldo_6HT",
        "collapsed": true
      },
      "execution_count": null,
      "outputs": []
    },
    {
      "cell_type": "markdown",
      "source": [
        "We calculate **Monetary** as the total amount paid by each customer across all their purchases."
      ],
      "metadata": {
        "id": "taWbcJh3pOO9"
      }
    },
    {
      "cell_type": "code",
      "source": [
        "# Calculate Monetary: total spending per customer\n",
        "monetary = df_final.groupby('customer_unique_id')['payment_value'].sum().reset_index()\n",
        "monetary.columns = ['customer_unique_id', 'Monetary']"
      ],
      "metadata": {
        "id": "eGVrk0pSFXVq"
      },
      "execution_count": null,
      "outputs": []
    },
    {
      "cell_type": "markdown",
      "source": [
        "We merge Recency, Frequency, and Monetary metrics into a single `rfm` dataframe,\n",
        "ready for normalization and clustering. We also removed the unnecessary column `LastPurchaseDate`."
      ],
      "metadata": {
        "id": "CsCOpdc1pbUa"
      }
    },
    {
      "cell_type": "code",
      "source": [
        "# Merge all RFM metrics into a single dataframe\n",
        "rfm = pd.merge(last_purchase, frequency, on='customer_unique_id')\n",
        "rfm = pd.merge(rfm, monetary, on='customer_unique_id')"
      ],
      "metadata": {
        "collapsed": true,
        "id": "4SrMz5LtFhMe"
      },
      "execution_count": null,
      "outputs": []
    },
    {
      "cell_type": "code",
      "source": [
        "# Remove LastPurchaseDate column\n",
        "\n",
        "rfm.drop('LastPurchaseDate', axis=1, inplace=True)"
      ],
      "metadata": {
        "id": "5mesuNyV-EYE"
      },
      "execution_count": null,
      "outputs": []
    },
    {
      "cell_type": "code",
      "source": [
        "# Quick overview of RFM distribution\n",
        "\n",
        "rfm.describe()"
      ],
      "metadata": {
        "id": "KCYUwgYM-Ela"
      },
      "execution_count": null,
      "outputs": []
    },
    {
      "cell_type": "markdown",
      "source": [
        "## 4. Exploratory Data Analysis (EDA)\n",
        "\n",
        "This section explores the distribution and relationships of the three RFM variables — **Recency**, **Frequency**, and **Monetary** — in order to better understand the customer base and to prepare the data for clustering."
      ],
      "metadata": {
        "id": "aK4tcxQnrtNs"
      }
    },
    {
      "cell_type": "markdown",
      "source": [
        "### Summary Statistics of RFM Variables\n",
        "\n",
        "Overview of central tendency and spread before transformation and scaling. Useful to understand the magnitude and dispersion of each feature."
      ],
      "metadata": {
        "id": "77WuqOTZs_na"
      }
    },
    {
      "cell_type": "code",
      "source": [
        "rfm.describe().T"
      ],
      "metadata": {
        "collapsed": true,
        "id": "WyCiLVPkl2Q2"
      },
      "execution_count": null,
      "outputs": []
    },
    {
      "cell_type": "markdown",
      "source": [
        "### Recency Distribution and Outliers\n",
        "\n",
        "Recency is already measured in days and typically doesn't require transformation. However, outliers are visible in the boxplot and can affect clustering."
      ],
      "metadata": {
        "id": "C1oAgk3Fr461"
      }
    },
    {
      "cell_type": "code",
      "source": [
        "# Distribution of Recency\n",
        "sns.histplot(rfm['Recency'], bins=20, kde=True)\n",
        "plt.title('Recency Distribution')\n",
        "plt.xlabel('Recency (days)')\n",
        "plt.ylabel('Count')\n",
        "plt.show()"
      ],
      "metadata": {
        "id": "TLy21ay6Gvhh"
      },
      "execution_count": null,
      "outputs": []
    },
    {
      "cell_type": "code",
      "source": [
        "# Boxplot to detect outliers in Recency\n",
        "sns.boxplot(x=rfm['Recency'])\n",
        "plt.title('Boxplot of Recency')\n",
        "plt.show()"
      ],
      "metadata": {
        "id": "7itkzWsHsOND"
      },
      "execution_count": null,
      "outputs": []
    },
    {
      "cell_type": "markdown",
      "source": [
        "**Interpretation**: The histogram for Recency shows a **right-skewed distribution**, indicating that a large portion of our customers made a purchase relatively recently (lower number of days since last purchase). This is a positive sign for customer engagement. The boxplot confirms this skewness and highlights the presence of **outliers** on the higher end of the scale. These represent customers who have not purchased for a considerable amount of time. While these long-inactive customers are outliers, they constitute a real segment of the customer base. Their inclusion is important for potential re-engagement strategies and they will be normalized with the rest of the data during the scaling phase for clustering."
      ],
      "metadata": {
        "id": "V0PjkcUi-Wb1"
      }
    },
    {
      "cell_type": "markdown",
      "source": [
        "### Frequency Distribution and Outliers (Log Transformed)\n",
        "\n",
        "Most customers purchase only once, resulting in a highly right-skewed distribution. A log transformation helps reduce skewness and improve the effectiveness of clustering."
      ],
      "metadata": {
        "id": "hQb8HnP8sdUR"
      }
    },
    {
      "cell_type": "code",
      "source": [
        "# Distribution of log-transformed Frequency\n",
        "sns.histplot(np.log1p(rfm['Frequency']), bins=30, kde=True)\n",
        "plt.title('Distribution of Frequency (log-transformed)')\n",
        "plt.show()"
      ],
      "metadata": {
        "id": "ALc377UKsa_Z"
      },
      "execution_count": null,
      "outputs": []
    },
    {
      "cell_type": "code",
      "source": [
        "# Boxplot to detect outliers after transformation\n",
        "sns.boxplot(x=np.log1p(rfm['Frequency']))\n",
        "plt.title('Boxplot of Frequency (log-transformed)')\n",
        "plt.show()"
      ],
      "metadata": {
        "id": "8Cci30ik5Lpv",
        "collapsed": true
      },
      "execution_count": null,
      "outputs": []
    },
    {
      "cell_type": "markdown",
      "source": [
        "**Interpretation**: The histogram clearly shows that the original Frequency distribution was highly **right-skewed**, with a large number of customers having very low purchase frequency (many buying only once). While the `log1p` transformation does not result in a normal distribution, it is effective in **compressing the extreme values and significantly reducing the severity of the skewness**. This makes the data more suitable for distance-based clustering algorithms like K-Means, as it mitigates the disproportionate influence of a few customers with an exceptionally high number of unique orders on the cluster centroids. The boxplot of the log-transformed data indicates that despite the transformation, there may still be some mild outliers, particularly on the higher end, representing **customers with an unusually high number of unique orders**."
      ],
      "metadata": {
        "id": "n1zr90GP-8Qv"
      }
    },
    {
      "cell_type": "markdown",
      "source": [
        "### Monetary Distribution and Outliers (Log Transformed)\n",
        "\n",
        "Spending behavior also shows strong skewness, with a few customers spending significantly more. Log transformation helps stabilize the variance and makes the data more usable for clustering."
      ],
      "metadata": {
        "id": "NcrIcLYBssBS"
      }
    },
    {
      "cell_type": "code",
      "source": [
        "# Distribution of log-transformed Monetary\n",
        "sns.histplot(np.log1p(rfm['Monetary']), bins=20, kde=True)\n",
        "plt.title('Distribution of Monetary (log-transformed)')\n",
        "plt.show()"
      ],
      "metadata": {
        "id": "SSX1FsENsrzY"
      },
      "execution_count": null,
      "outputs": []
    },
    {
      "cell_type": "code",
      "source": [
        "# Boxplot to check for extreme spenders\n",
        "sns.boxplot(x=np.log1p(rfm['Monetary']))\n",
        "plt.title('Boxplot of Monetary (log-transformed)')\n",
        "plt.show()"
      ],
      "metadata": {
        "id": "2Dn8hTq87Yi1",
        "collapsed": true
      },
      "execution_count": null,
      "outputs": []
    },
    {
      "cell_type": "markdown",
      "source": [
        "**Interpretation**: Similar to Frequency, the original Monetary distribution was also **highly right-skewed**, indicating that a few customers contribute significantly more to the total revenue. The `log1p` transformation effectively **compresses these extreme spending values**. We can observe an **approximation towards a normal distribution**, although it remains **right-skewed**. This transformation makes the data more suitable for distance-based clustering algorithms by normalizing the influence of high-value spenders. The boxplot of the log-transformed data indicates that while the transformation improved the distribution, there may still be some mild outliers, particularly on the higher end, representing customers with exceptionally high total spending."
      ],
      "metadata": {
        "id": "TPnBjb1lBe3e"
      }
    },
    {
      "cell_type": "markdown",
      "source": [
        "### Correlation Between RFM Variables\n",
        "\n",
        "This correlation matrix shows how Recency, Frequency, and Monetary relate to one another.\n",
        "- Recency usually has **negative** correlation with Frequency and Monetary (recent buyers tend to buy more and spend more).\n",
        "- Frequency and Monetary are often **positively** correlated."
      ],
      "metadata": {
        "id": "RQRvNgkAs1L0"
      }
    },
    {
      "cell_type": "code",
      "source": [
        "# Compute correlation matrix\n",
        "rfm_numeric = rfm[['Recency', 'Frequency', 'Monetary']]\n",
        "rfm_corr = rfm_numeric.corr()\n",
        "\n",
        "# Heatmap of correlation\n",
        "sns.heatmap(rfm_corr, annot=True, cmap='coolwarm', center=0)\n",
        "plt.title('Correlation between RFM variables')\n",
        "plt.show()"
      ],
      "metadata": {
        "id": "auU5Molw87l6"
      },
      "execution_count": null,
      "outputs": []
    },
    {
      "cell_type": "markdown",
      "source": [
        "**Interpretation**: The correlation heatmap reveals the relationships between the RFM variables. While the **direction** of the correlations is as generally hypothesized – Recency shows a negative relationship with Frequency (-0.025) and Monetary (-0.0084), and Frequency and Monetary show a positive relationship (0.14) – it is important to note that the **magnitudes of these correlations are very low**.\n",
        "\n",
        "This indicates that, for this specific dataset, the linear relationships between Recency, Frequency, and Monetary are **weak or negligible**. This suggests that these RFM dimensions are relatively independent of each other, meaning they capture distinct aspects of customer behavior, which can be beneficial for clustering as each dimension provides unique information to segment customers."
      ],
      "metadata": {
        "id": "Ui3pAZ7ADF0v"
      }
    },
    {
      "cell_type": "markdown",
      "source": [
        "## 5. Data Normalization\n",
        "\n",
        "Before clustering, it's crucial to normalize the data so that all features contribute equally to the model. Here, we apply **Standard Scaling** to the RFM features."
      ],
      "metadata": {
        "id": "NMy9u9zSv8Vb"
      }
    },
    {
      "cell_type": "code",
      "source": [
        "# Ensure data is in the correct format for scaling and clustering\n",
        "\n",
        "# 1. Select the RFM features for transformation and scaling\n",
        "# Create a copy to avoid SettingWithCopyWarning\n",
        "rfm_for_clustering = rfm[['Recency', 'Frequency', 'Monetary']].copy()\n",
        "\n",
        "# 2. Apply log transformation to Frequency and Monetary\n",
        "# Recency is typically not log-transformed as its distribution is often less severely skewed and 0 is meaningful.\n",
        "rfm_for_clustering['Frequency'] = np.log1p(rfm_for_clustering['Frequency'])\n",
        "rfm_for_clustering['Monetary'] = np.log1p(rfm_for_clustering['Monetary'])\n",
        "\n",
        "# 3. Standardize the RFM values (mean = 0, std = 1)\n",
        "scaler = StandardScaler()\n",
        "rfm_scaled = scaler.fit_transform(rfm_for_clustering)\n",
        "\n",
        "# 4. Store the scaled data in a new DataFrame\n",
        "rfm_scaled_df = pd.DataFrame(rfm_scaled, columns=rfm_for_clustering.columns)\n",
        "\n",
        "# 5. Inspect the standardized values\n",
        "print(\"Descriptive statistics of scaled RFM features:\")\n",
        "print(rfm_scaled_df.describe())"
      ],
      "metadata": {
        "collapsed": true,
        "id": "guUwQoeAz3yh"
      },
      "execution_count": null,
      "outputs": []
    },
    {
      "cell_type": "markdown",
      "source": [
        "## Choosing the Optimal Number of Clusters\n",
        "\n",
        "We use two methods:\n",
        "- **Elbow Method**: evaluates within-cluster variance (inertia).\n",
        "- **Silhouette Score**: measures how well each object lies within its cluster."
      ],
      "metadata": {
        "id": "2zvZsMv7w9kx"
      }
    },
    {
      "cell_type": "code",
      "source": [
        "# Lists to store metrics\n",
        "inertias = []\n",
        "silhouette_scores = []\n",
        "\n",
        "# Test different values of K (from 2 to 10)\n",
        "for k in range(2, 11):\n",
        "    model = KMeans(n_clusters=k, random_state=42, n_init=10, max_iter=100)\n",
        "    model.fit(rfm_scaled)\n",
        "    inertias.append(model.inertia_)\n",
        "\n",
        "    # Use subsampling to speed up silhouette score calculation\n",
        "    labels = model.labels_\n",
        "    sample_data, sample_labels = resample(rfm_scaled, labels, n_samples=10000, random_state=42)\n",
        "    score = silhouette_score(sample_data, sample_labels)\n",
        "    silhouette_scores.append(score)\n",
        "\n",
        "\n",
        "print(\"Inertias:\", inertias)\n",
        "print(\"Silhouette Scores:\", silhouette_scores)"
      ],
      "metadata": {
        "id": "nxOhFTEh0xcB"
      },
      "execution_count": null,
      "outputs": []
    },
    {
      "cell_type": "code",
      "source": [
        "# Plotting the Elbow Method\n",
        "plt.figure(figsize=(8,5))\n",
        "plt.plot(range(2, 11), inertias, marker='o')\n",
        "plt.xlabel('Number of Clusters (K)')\n",
        "plt.ylabel('Inertia')\n",
        "plt.title('Elbow Method')\n",
        "plt.grid(True)\n",
        "plt.show()"
      ],
      "metadata": {
        "id": "ZcjOGl3l5T2D",
        "collapsed": true
      },
      "execution_count": null,
      "outputs": []
    },
    {
      "cell_type": "code",
      "source": [
        "# Plotting the Silhouette Scores\n",
        "plt.figure(figsize=(8,5))\n",
        "plt.plot(range(2, 11), silhouette_scores, marker='o', color='orange')\n",
        "plt.xlabel('Number of Clusters (K)')\n",
        "plt.ylabel('Silhouette Score')\n",
        "plt.title('Silhouette Score by K (with subsampling)')\n",
        "plt.grid(True)\n",
        "plt.show()"
      ],
      "metadata": {
        "id": "1v5-tAbq510x",
        "collapsed": true
      },
      "execution_count": null,
      "outputs": []
    },
    {
      "cell_type": "markdown",
      "source": [
        "**Interpretation of Elbow and Silhouette Methods**:\n",
        "\n",
        "The Elbow Method plot shows a noticeable \"bend\" or \"elbow\" around K=3 or K=4, indicating that adding more clusters beyond this point provides diminishing returns in terms of reducing within-cluster variance.\n",
        "\n",
        "The Silhouette Score plot, which measures the compactness and separation of clusters, shows a rising score from K=3 to K=5. A higher silhouette score indicates denser and more well-separated clusters.\n",
        "\n",
        "Considering both methods, **K=4** is chosen as the optimal number of clusters, offering a good balance between minimizing within-cluster variance and maximizing cluster distinctiveness, while also providing a manageable number of segments for business interpretation."
      ],
      "metadata": {
        "id": "sMqnQs70HWr8"
      }
    },
    {
      "cell_type": "markdown",
      "source": [
        "## 6. Applying K-Means Clustering (K = 4)\n",
        "\n",
        "Based on the Elbow and Silhouette Score, we choose **K = 4** for segmentation."
      ],
      "metadata": {
        "id": "2IWtQ21wxfuk"
      }
    },
    {
      "cell_type": "code",
      "source": [
        "# Fit final KMeans model\n",
        "model = KMeans(n_clusters=4, random_state=42, n_init=10, max_iter=100)\n",
        "model.fit(rfm_scaled)\n",
        "\n",
        "# Assign cluster labels to original RFM data\n",
        "rfm['Cluster'] = model.labels_"
      ],
      "metadata": {
        "id": "QcMY7xKn62pY"
      },
      "execution_count": null,
      "outputs": []
    },
    {
      "cell_type": "markdown",
      "source": [
        "## 7. Cluster Summary (Mean Values per Group)\n",
        "\n",
        "Here we inspect the **average RFM values per cluster** to begin interpretation of each customer segment."
      ],
      "metadata": {
        "id": "nlqqvOR7xuQG"
      }
    },
    {
      "cell_type": "code",
      "source": [
        "# Compute average RFM values by cluster\n",
        "cluster_summary = rfm.groupby('Cluster')[['Recency', 'Frequency', 'Monetary']].mean().round(2)\n",
        "cluster_summary"
      ],
      "metadata": {
        "id": "UgNVHt7967Sr"
      },
      "execution_count": null,
      "outputs": []
    },
    {
      "cell_type": "markdown",
      "source": [
        "**Interpretation of Cluster Summary Table**:\n",
        "\n",
        "Based on the average RFM values, we can identify distinct customer segments:\n",
        "\n",
        "* **Cluster 0 - \"Recent Big Spenders, Infrequent\"**:\n",
        "    * **Recency**: Medium/High (`233.63` days) - Purchased some time ago..\n",
        "    * **Frequency**: Low (`1` purchases) - Purchased only once.\n",
        "    * **Monetary**: High (e.g., `407.03` R$) - Spent a significant amount.\n",
        "    * *Profile*: These customers have spent a good amount, but their purchases are infrequent and not recent. They are valuable but are at risk of leaving or are already inactive. Re-engagement strategies should focus on reactivating their high spending potential.\n",
        "\n",
        "* **Cluster 1 - \"High-Value Frequent Champions\"**:\n",
        "    * **Recency**: Medium/High (`268.17` days) - Purchased some time ago (though relatively higher among frequent buyers).\n",
        "    * **Frequency**: High (`2.12` purchases) - Purchase most frequently among all segments.\n",
        "    * **Monetary**: High (`418.24` R$) - Have the highest total spending.\n",
        "    * *Perfil*: Our most valuable and frequent customers. They spend the most and buy often. Focus on retention, loyalty programs, and exclusive offers to maintain their engagement.\n",
        "\n",
        "* **Cluster 2 - \"Long-Term Inactive / Lost Customers\"**:\n",
        "    * **Recency**: Very High (`474.91` days) -  Individuals who haven't purchased for a very long time (most inactive segment).\n",
        "    * **Frequency**: Low (`1` purchases) - Purchased only once.\n",
        "    * **Monetary**: Medium (`123.66` R$) - Low to medium initial spending.\n",
        "    * *Perfil*: These customers are largely inactive or have left. They represent a low-value segment that hasn't purchased in nearly 1.5 years. Re-engagement efforts here might have low ROI, or focus on win-back strategies with significant incentives.\n",
        "\n",
        "* **Cluster 3 - \"New/Recent Low Spenders\"**:\n",
        "    * **Recency**: Low  (`193.25` days) - Purchased most recently among all segments.\n",
        "    * **Frequency**: Low (`1` purchases) - Purchased only once.\n",
        "    * **Monetary**: Low (`76.25` R$) - Have the lowest total spending.\n",
        "    * *Perfil*: These are relatively new or very recent customers who have only made a single, low-value purchase. They are trialists. Focus on nurturing, encouraging a second purchase, and cross-selling to increase their lifetime value."
      ],
      "metadata": {
        "id": "ylZp7n4KNTZA"
      }
    },
    {
      "cell_type": "markdown",
      "source": [
        "### Boxplots by Cluster\n",
        "\n",
        "Visualize the distribution of each RFM variable by cluster to detect patterns and variability within each group."
      ],
      "metadata": {
        "id": "GWsKb_3Cx5LM"
      }
    },
    {
      "cell_type": "code",
      "source": [
        "# Copy rfm_for_clustering and adds Cluster column to it\n",
        "rfm_plot_data = rfm_for_clustering.copy()\n",
        "rfm_plot_data['Cluster'] = rfm['Cluster']\n",
        "\n",
        "# Recency\n",
        "plt.figure(figsize=(10, 6))\n",
        "sns.boxplot(x='Cluster', y='Recency', data=rfm_plot_data)\n",
        "plt.title('Recency Distribution by Cluster')\n",
        "plt.savefig('boxplot.png', bbox_inches='tight', dpi=300)\n",
        "plt.show()\n",
        "\n",
        "# Frequency (log scale due to skewness)\n",
        "plt.figure(figsize=(10, 6))\n",
        "sns.boxplot(x='Cluster', y='Frequency', data=rfm_plot_data)\n",
        "plt.title('Frequency Distribution by Cluster (log1p transformed)')\n",
        "plt.show()\n",
        "\n",
        "# Monetary (log scale due to skewness)\n",
        "plt.figure(figsize=(10, 6))\n",
        "sns.boxplot(x='Cluster', y='Monetary', data=rfm_plot_data)\n",
        "plt.title('Monetary Distribution by Cluster (log1p transformed)')\n",
        "plt.show()"
      ],
      "metadata": {
        "collapsed": true,
        "id": "1ktgqVm_6_8b"
      },
      "execution_count": null,
      "outputs": []
    },
    {
      "cell_type": "markdown",
      "source": [
        "**Visual Analysis of Clusters (Boxplots)**:\n",
        "\n",
        "The boxplots for each RFM variable across the clusters visually reinforce and expand upon the segment profiles identified in the summary table, providing insights into the variability within each group.\n",
        "\n",
        "- **Recency**: The boxplot clearly shows distinct ranges and **meaningful amplitudes across clusters** (e.g., from 100 to 200 days amplitude between Q1 and Q3 for various clusters). This indicates varying degrees of recent activity and a discernible spread within each group, allowing for clear differentiation based on customer recency.\n",
        "- **Frequency (log scale)**: As observed, for most clusters (e.g., Clusters 0, 2, and 3), the Frequency boxplot largely appears as a line at a specific value (likely corresponding to a single purchase in the original scale). This highlights the **minimal internal variability in purchase frequency for these segments**, indicating that the vast majority of customers within them have made a consistent, low number of purchases. In contrast, Cluster 1 is likely the exception, showing a more discernible box and potentially outliers, reflecting greater variability and higher average frequency.\n",
        "- **Monetary (log scale)**: The Monetary boxplot (log-scaled) tends to be more compact, which is expected due to the logarithmic transformation applied to handle the skewness of the data. Despite this compactness, these boxplots effectively highlight differences in spending power across segments, showing distinct median values and interquartile ranges, even if narrower, indicating varying levels of monetary contribution within and across clusters.\n",
        "\n",
        "These visualizations emphasize not only the average behavior but also the **homogeneity or heterogeneity** of customers within each segment based on their RFM attributes. When a boxplot is a line, it strongly indicates that the cluster is very pure or uniform on that specific RFM dimension.\n"
      ],
      "metadata": {
        "id": "T14AT0y2TNsP"
      }
    },
    {
      "cell_type": "markdown",
      "source": [
        "### Heatmap of Normalized Cluster Averages\n",
        "\n",
        "Normalize mean values to compare relative RFM strength across clusters."
      ],
      "metadata": {
        "id": "Dze4s_X3yEEq"
      }
    },
    {
      "cell_type": "code",
      "source": [
        "# Normalize means for heatmap visualization\n",
        "cluster_means = rfm.groupby('Cluster')[['Recency', 'Frequency', 'Monetary']].mean()\n",
        "cluster_means_norm = (cluster_means - cluster_means.min()) / (cluster_means.max() - cluster_means.min())\n",
        "\n",
        "\n",
        "# Visual heatmap\n",
        "plt.figure(figsize=(8, 5))\n",
        "sns.heatmap(cluster_means_norm, annot=True, cmap='YlGnBu')\n",
        "plt.title('Normalized Mean RFM Values per Cluster')\n",
        "plt.savefig('heatmap.png', bbox_inches='tight', dpi=300)\n",
        "plt.show()"
      ],
      "metadata": {
        "id": "IGS1dwk97Bo1"
      },
      "execution_count": null,
      "outputs": []
    },
    {
      "cell_type": "markdown",
      "source": [
        "The heatmap provides a clear visual summary of each cluster's profile, displaying their normalized RFM scores (from 0 to 1). It's crucial to understand the normalization context for each metric:\n",
        "\n",
        "* **Recency**: A lower normalized value (closer to 0) indicates a more recent purchase (fewer days since last purchase). A higher normalized value (closer to 1) indicates a less recent purchase (more days since last purchase).\n",
        "* **Frequency & Monetary**: For these, a higher normalized value (closer to 1) indicates higher frequency/spending, and a lower value (closer to 0) indicates lower frequency/spending.\n",
        "\n",
        "Based on this, here are the cluster profiles:\n",
        "\n",
        "* **Cluster 0**: Shows relatively low normalized Recency (meaning they are **quite recent** buyers, given 0.14 is closer to 0), the lowest Frequency (0), but a very high Monetary value (0.97). This segment likely represents **recent big spenders, but infrequent buyers**.\n",
        "* **Cluster 1**: Exhibits relatively low normalized Recency (meaning they are **quite recent** buyers, given 0.27 is closer to 0), and the highest scores in both Frequency (1) and Monetary (1). This is the segment of **highly valuable, very frequent, and relatively recent \"Champion\" customers**.\n",
        "* **Cluster 2**: Displays the highest normalized Recency (meaning these are the **least recent / most inactive** customers, given 1.00 is closer to 1), combined with the lowest Frequency (0) and a relatively low Monetary value (0.14). This segment represents **long-term inactive or \"lost\" customers** with low overall value.\n",
        "* **Cluster 3**: Shows the lowest normalized scores across all three dimensions: lowest Recency (meaning they are **quite recent** buyers, given 0.00 is at the minimum), lowest Frequency (0), and lowest Monetary value (0). This segment likely consists of **very recent, but low-value and infrequent buyers**, potentially new customers or trialists who have only made a single, small purchase."
      ],
      "metadata": {
        "id": "1_vRbpNgWPiQ"
      }
    },
    {
      "cell_type": "markdown",
      "source": [
        "## 8. Cluster Interpretation\n",
        "\n",
        "Based on normalized values, the customer clusters are interpreted as follows:\n",
        "\n",
        "| Cluster | Recency ↑ | Frequency ↑ | Monetary ↑ | Profile                                                                           |\n",
        "|---------|-----------|-------------|-------------|---------------------------------------------------------------------------------------|\n",
        "| 0       | Low       | Very Low    | Very High   | **Recent Big Spenders, Infrequent** – Recently purchased and spent a lot, but do so rarely. |\n",
        "| 1       | Low       | Very High   | Very High   | **High-Value Frequent Champions** – Your most valuable customers, purchasing frequently and spending a lot. |\n",
        "| 2       | High      | Very Low    | Low         | **Long-Term Inactive / Lost Customers** – Have not purchased in a very long time, with low frequency and value. |\n",
        "| 3       | Very Low  | Very Low    | Very Low    | **New/Recent Low Spenders** – Very recent buyers with low frequency and low value. Potentially \"trialists.\" |"
      ],
      "metadata": {
        "id": "KMyCEMRHtZe5"
      }
    },
    {
      "cell_type": "markdown",
      "source": [
        "## 9. 2D Cluster Visualization: Monetary vs Recency\n",
        "\n",
        "We visualize the clusters using a scatterplot, where:\n",
        "- **Y-axis = Recency**\n",
        "- **X-axis = log-transformed Monetary**\n",
        "\n",
        "This helps intuitively understand how customer groups separate in two key dimensions."
      ],
      "metadata": {
        "id": "nUWkwOP8yV4W"
      }
    },
    {
      "cell_type": "code",
      "source": [
        "# Add necessary columns to the scaled DataFrame\n",
        "rfm_scaled_df['Cluster'] = rfm['Cluster']\n",
        "\n",
        "# 2D Scatterplot of Clusters\n",
        "plt.figure(figsize=(10, 6))\n",
        "sns.scatterplot(\n",
        "    data=rfm_scaled_df,\n",
        "    x='Monetary',\n",
        "    y='Recency',\n",
        "    hue='Cluster',\n",
        "    palette='Set2',\n",
        "    alpha=0.6,\n",
        "    s=20\n",
        ")\n",
        "plt.title('Customer Clusters: Monetary vs Recency')\n",
        "plt.xlabel('Monetary (Standardized, log-transformed)')\n",
        "plt.ylabel('Recency (Standardized)')\n",
        "plt.legend(title='Cluster')\n",
        "plt.grid(True)\n",
        "plt.savefig('scatter.png', bbox_inches='tight', dpi=300)\n",
        "plt.show()"
      ],
      "metadata": {
        "id": "AfcramPdtzTX"
      },
      "execution_count": null,
      "outputs": []
    },
    {
      "cell_type": "markdown",
      "source": [
        "## 10. Final Insights and Export\n",
        "\n",
        "This final section adds complementary visualizations, summarises the main findings, and exports the segmented customer dataset for further use."
      ],
      "metadata": {
        "id": "HaiGqBWgNvjm"
      }
    },
    {
      "cell_type": "markdown",
      "source": [
        "### Cluster Size and Revenue Contribution\n",
        "\n",
        "To better understand the business value of each segment, we visualise:\n",
        "\n",
        "- The number of customers in each cluster\n",
        "- The total monetary value generated by each cluster"
      ],
      "metadata": {
        "id": "q1GhAc95OBXt"
      }
    },
    {
      "cell_type": "code",
      "source": [
        "# Count of customers per clauster\n",
        "plt.figure(figsize=(10, 6))\n",
        "ax = sns.countplot(data=rfm, x='Cluster')\n",
        "plt.title('Number of Customers per Cluster')\n",
        "plt.xlabel('Cluster')\n",
        "plt.ylabel('Number of Customers')\n",
        "\n",
        "# Add data label\n",
        "for p in ax.patches:\n",
        "  height = p.get_height()\n",
        "  ax.annotate(f'{height}', xy=(p.get_x() + p.get_width() / 2, height), xytext=(0,5), textcoords='offset points', ha='center', va='center')\n",
        "\n",
        "plt.show()"
      ],
      "metadata": {
        "id": "VR-aGz6Jwkbg"
      },
      "execution_count": null,
      "outputs": []
    },
    {
      "cell_type": "code",
      "source": [
        "# Total Monetary value per clauster\n",
        "monetary_sum = rfm.groupby('Cluster')['Monetary'].sum().reset_index()\n",
        "\n",
        "\n",
        "plt.figure(figsize=(10, 6))\n",
        "ax = sns.barplot(x='Cluster', y='Monetary', data=monetary_sum)\n",
        "plt.title('Total Monetary Value per Cluster')\n",
        "plt.xlabel('Cluster')\n",
        "plt.ylabel('Total Monetary Value')\n",
        "\n",
        "# Add data label\n",
        "for p in ax.patches:\n",
        "  height = p.get_height()\n",
        "  formatted = f'{height:,.2f}'.replace(',',' ')\n",
        "  ax.annotate(formatted, xy=(p.get_x() + p.get_width() / 2, height), xytext=(0,5), textcoords='offset points', ha='center', va='center')\n",
        "\n",
        "plt.show()"
      ],
      "metadata": {
        "id": "z87QrsNHOpYS"
      },
      "execution_count": null,
      "outputs": []
    },
    {
      "cell_type": "markdown",
      "source": [
        "### Conclusions and Business Recommendations\n",
        "\n",
        "This analysis segmented customers into four behavioural clusters using RFM metrics and K-means clustering. The clusters differ significantly in terms of purchase recency, frequency, and monetary value.\n",
        "\n",
        "**Key Insights:**\n",
        "\n",
        "* **Cluster 0 - \"Recent Big Spenders, Infrequent\"**: Low Recency, Very Low Frequency, Very High Monetary. Consider strategies to encourage repeat purchases and leverage their high spending potential.\n",
        "* **Cluster 1 - \"High-Value Frequent Champions\"**: Low Recency, Very High Frequency, Very High Monetary. These are your most valuable customers; focus on retention, loyalty programs, and exclusive offers.\n",
        "* **Cluster 2 - \"Long-Term Inactive / Lost Customers\"**: High Recency, Very Low Frequency, Low Monetary. Evaluate the ROI of win-back campaigns, as resources might be better allocated to more promising segments.\n",
        "* **Cluster 3 - \"New/Recent Low Spenders\"**: Very Low Recency, Very Low Frequency, Very Low Monetary. Focus on nurturing, onboarding, and encouraging a second purchase to increase their engagement and lifetime value.\n",
        "\n"
      ],
      "metadata": {
        "id": "Gi5_2ATyQx7d"
      }
    },
    {
      "cell_type": "markdown",
      "source": [
        "### Export Clustered Data\n",
        "\n",
        "The Final dataset is exported to a CSV file, containing:\n",
        "\n",
        "- The original RFM metrics\n",
        "- The assigned cluster label ('Cluster')\n",
        "- Ready for integration with bussiness dashboards or CRM tools."
      ],
      "metadata": {
        "id": "F_Pm7mv0Sq_C"
      }
    },
    {
      "cell_type": "code",
      "source": [
        "# Export final RFM table with cluster labels\n",
        "rfm.to_csv('rfm_clusters_segments.csv', index=False)"
      ],
      "metadata": {
        "id": "hid6A0rzSlP6"
      },
      "execution_count": null,
      "outputs": []
    }
  ]
}